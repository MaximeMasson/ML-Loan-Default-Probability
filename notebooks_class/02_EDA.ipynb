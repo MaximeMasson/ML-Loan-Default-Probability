{
 "cells": [
  {
   "cell_type": "markdown",
   "id": "1460ee30",
   "metadata": {},
   "source": [
    "# 02 - Exploratory Data Analysis (EDA)\n",
    "\n",
    "This notebook focuses on analyzing the dataset through descriptive statistics and visualizations.\n",
    "The key steps include:\n",
    "- Understanding data distribution\n",
    "- Identifying correlations\n",
    "- Exploring trends in loan defaults\n",
    "\n",
    "## 1. Data Overview\n"
   ]
  },
  {
   "cell_type": "code",
   "execution_count": 156,
   "id": "06bcfe39",
   "metadata": {},
   "outputs": [],
   "source": [
    "keep_list = ['charged_off','funded_amnt','addr_state', 'annual_inc', 'application_type', \n",
    "             'dti', 'earliest_cr_line', 'emp_length', 'emp_title', 'fico_range_high', \n",
    "             'fico_range_low', 'grade', 'home_ownership', 'id', 'initial_list_status', \n",
    "             'installment', 'int_rate', 'loan_amnt', 'loan_status', 'mort_acc', 'open_acc', \n",
    "             'pub_rec', 'pub_rec_bankruptcies', 'purpose', 'revol_bal', 'revol_util', \n",
    "             'sub_grade', 'term', 'title', 'total_acc', 'verification_status', 'zip_code',\n",
    "             'last_pymnt_amnt','num_actv_rev_tl', 'mo_sin_rcnt_rev_tl_op','mo_sin_old_rev_tl_op',\n",
    "             \"bc_util\",\"bc_open_to_buy\",\"avg_cur_bal\",\"acc_open_past_24mths\" ]"
   ]
  },
  {
   "cell_type": "code",
   "execution_count": 157,
   "id": "162b32f0",
   "metadata": {},
   "outputs": [],
   "source": [
    "filtered_df = filtered_df[filtered_df.columns.intersection(keep_list)]"
   ]
  },
  {
   "cell_type": "code",
   "execution_count": 159,
   "id": "43d1891d",
   "metadata": {},
   "outputs": [],
   "source": [
    "# Set the labels to be 1 for \"Charged Off\" and 0 for \"Fully Paid\"\n",
    "filtered_df['target'] = filtered_df['loan_status'].apply(lambda x: 1 if x == 'Charged Off' else 0)\n",
    "filtered_df.drop('loan_status', axis=1, inplace=True)"
   ]
  },
  {
   "cell_type": "code",
   "execution_count": 160,
   "id": "c3c6f78e",
   "metadata": {},
   "outputs": [],
   "source": [
    "correlation_with_target = filtered_df.corr()['target'].sort_values(ascending=False).abs()\n",
    "bad_correlation_with_target = correlation_with_target[correlation_with_target<0.03]\n",
    "filtered_df.drop(bad_correlation_with_target.index, axis=1, inplace=True)"
   ]
  },
  {
   "cell_type": "markdown",
   "id": "65ca5b80",
   "metadata": {},
   "source": [
    "## 2. Data Visualization\n",
    "- Distribution of key numerical features\n",
    "- Categorical feature analysis\n",
    "- Loan default trends"
   ]
  },
  {
   "cell_type": "code",
   "execution_count": 165,
   "id": "2579c95d",
   "metadata": {},
   "outputs": [],
   "source": [
    "processed_df = filtered_df.copy()"
   ]
  },
  {
   "cell_type": "code",
   "execution_count": 166,
   "id": "1adc8eb9",
   "metadata": {},
   "outputs": [
    {
     "name": "stdout",
     "output_type": "stream",
     "text": [
      "term: 2 categories\n",
      "grade: 7 categories\n",
      "sub_grade: 35 categories\n",
      "emp_title: 32987 categories\n",
      "emp_length: 11 categories\n",
      "home_ownership: 4 categories\n",
      "verification_status: 3 categories\n",
      "purpose: 13 categories\n",
      "title: 20 categories\n",
      "zip_code: 846 categories\n",
      "addr_state: 46 categories\n",
      "earliest_cr_line: 598 categories\n",
      "initial_list_status: 2 categories\n",
      "application_type: 1 categories\n"
     ]
    }
   ],
   "source": [
    "# Select non-numeric features\n",
    "non_numeric_features = filtered_df.select_dtypes(include=['object']).columns\n",
    "\n",
    "# Display the number of categories for each non-numeric feature\n",
    "for feature in non_numeric_features:\n",
    "    print(f\"{feature}: {filtered_df[feature].nunique()} categories\")"
   ]
  },
  {
   "cell_type": "code",
   "execution_count": 167,
   "id": "6674d4e0",
   "metadata": {},
   "outputs": [],
   "source": [
    "processed_df['term'] = filtered_df['term'].copy().apply(lambda row: 36 if row == ' 36 months' else 60)"
   ]
  },
  {
   "cell_type": "markdown",
   "id": "5f0219fb",
   "metadata": {},
   "source": [
    "## 3. Correlation Analysis\n",
    "- Checking relationships between variables\n",
    "- Identifying important predictors for loan defaults"
   ]
  },
  {
   "cell_type": "code",
   "execution_count": 168,
   "id": "2d1fe4c5",
   "metadata": {},
   "outputs": [],
   "source": [
    "# Define base values for each letter, where A is the highest and G is the lowest\n",
    "letter_values = {'A': 7, 'B': 6, 'C': 5, 'D': 4, 'E': 3, 'F': 2, 'G': 1}\n",
    "\n",
    "# Convert grades to a continuous numeric scale\n",
    "def grade_to_continuous(grade):\n",
    "    letter = grade[0]  # Extract the letter part\n",
    "    number = int(grade[1])  # Extract the number part\n",
    "    return letter_values[letter] * 5 - number  # Use a continuous scoring system\n",
    "\n",
    "# Apply the function to the 'grade' column\n",
    "processed_df['sub_grade'] = filtered_df['sub_grade'].copy().apply(grade_to_continuous)\n",
    "\n",
    "# We can drop grade because we have sub_grade\n",
    "processed_df.drop('grade', axis=1, inplace=True)\n",
    "# processed_df[['sub_grade']]"
   ]
  },
  {
   "cell_type": "code",
   "execution_count": 169,
   "id": "a36090af",
   "metadata": {},
   "outputs": [],
   "source": [
    "experience_mapping = {\n",
    "    '< 1 year': 0,\n",
    "    '1 year': 1,\n",
    "    '2 years': 2,\n",
    "    '3 years': 3,\n",
    "    '4 years': 4,\n",
    "    '5 years': 5,\n",
    "    '6 years': 6,\n",
    "    '7 years': 7,\n",
    "    '8 years': 8,\n",
    "    '9 years': 9,\n",
    "    '10+ years': 12\n",
    "}   \n",
    "\n",
    "# Apply the function to the 'grade' column\n",
    "processed_df['emp_length'] = filtered_df['emp_length'].copy().map(experience_mapping)"
   ]
  },
  {
   "cell_type": "code",
   "execution_count": 170,
   "id": "75b5d098",
   "metadata": {},
   "outputs": [],
   "source": [
    "processed_df['initial_list_status'] = np.where(filtered_df['initial_list_status'] == 'w', 0, 1)"
   ]
  }
 ],
 "metadata": {},
 "nbformat": 4,
 "nbformat_minor": 5
}
